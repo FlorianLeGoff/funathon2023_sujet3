{
 "cells": [
  {
   "cell_type": "markdown",
   "id": "f515e6c6-80c2-4612-b5e2-84ee5f0ee73b",
   "metadata": {},
   "source": [
    "# Mon script"
   ]
  },
  {
   "cell_type": "markdown",
   "id": "87dab538-e9ac-4834-b902-2c85168b85e3",
   "metadata": {},
   "source": [
    "## Imports"
   ]
  },
  {
   "cell_type": "code",
   "execution_count": null,
   "id": "6862ceb9-b2e3-4f9f-8d9d-0a2b11f7eec9",
   "metadata": {},
   "outputs": [],
   "source": []
  }
 ],
 "metadata": {
  "kernelspec": {
   "display_name": "Python 3 (ipykernel)",
   "language": "python",
   "name": "python3"
  },
  "language_info": {
   "codemirror_mode": {
    "name": "ipython",
    "version": 3
   },
   "file_extension": ".py",
   "mimetype": "text/x-python",
   "name": "python",
   "nbconvert_exporter": "python",
   "pygments_lexer": "ipython3",
   "version": "3.10.9"
  }
 },
 "nbformat": 4,
 "nbformat_minor": 5
}
